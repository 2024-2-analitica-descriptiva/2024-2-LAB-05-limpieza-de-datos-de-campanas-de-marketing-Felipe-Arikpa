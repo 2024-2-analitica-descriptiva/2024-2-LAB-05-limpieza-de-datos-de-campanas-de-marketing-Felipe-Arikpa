{
 "cells": [
  {
   "cell_type": "code",
   "execution_count": 1,
   "metadata": {},
   "outputs": [],
   "source": [
    "import glob\n",
    "import pandas as pd\n",
    "import os\n",
    "\n",
    "input_directory = '../files/input'\n",
    "files = glob.glob(f'{input_directory}/*')\n",
    "\n",
    "dfs = []\n",
    "\n",
    "for file in files:\n",
    "    df = pd.read_csv(file)\n",
    "    dfs.append(df)\n",
    "\n",
    "dataset = pd.concat(dfs)"
   ]
  },
  {
   "cell_type": "code",
   "execution_count": 2,
   "metadata": {},
   "outputs": [],
   "source": [
    "dataset['job'] = dataset['job'].str.replace('.' , '').str.replace('-' , '_')\n",
    "dataset['education'] = dataset['education'].str.replace('.' , '_')\n",
    "dataset['education'] = dataset['education'].apply(lambda x: pd.NA if x == 'unknown' else x)\n",
    "dataset['credit_default'] = dataset['credit_default'].apply(lambda x: 1 if x == 'yes' else 0)\n",
    "dataset['mortgage'] = dataset['mortgage'].apply(lambda x: 1 if x == 'yes' else 0)\n",
    "dataset['previous_outcome'] = dataset['previous_outcome'].apply(lambda x: 1 if x == 'success' else 0)\n",
    "dataset['campaign_outcome'] = dataset['campaign_outcome'].apply(lambda x: 1 if x == 'yes' else 0)"
   ]
  },
  {
   "cell_type": "code",
   "execution_count": 3,
   "metadata": {},
   "outputs": [
    {
     "data": {
      "text/plain": [
       "0      2022-05-13\n",
       "1      2022-05-19\n",
       "2      2022-05-23\n",
       "3      2022-05-27\n",
       "4      2022-05-03\n",
       "          ...    \n",
       "4113   2022-11-30\n",
       "4114   2022-11-06\n",
       "4115   2022-11-24\n",
       "4116   2022-11-17\n",
       "4117   2022-11-23\n",
       "Name: last_contact_date, Length: 41188, dtype: datetime64[ns]"
      ]
     },
     "execution_count": 3,
     "metadata": {},
     "output_type": "execute_result"
    }
   ],
   "source": [
    "dataset['month'] = pd.to_datetime(dataset['month'], format='%b').dt.month\n",
    "dataset['last_contact_date'] = pd.to_datetime({'year':2022, 'month':dataset['month'], 'day':dataset['day']})\n",
    "dataset['last_contact_date']"
   ]
  },
  {
   "cell_type": "code",
   "execution_count": 4,
   "metadata": {},
   "outputs": [],
   "source": [
    "client = dataset[\n",
    "    ['client_id', \n",
    "    'age',\n",
    "    'job',\n",
    "    'marital',\n",
    "    'education',\n",
    "    'credit_default',\n",
    "    'mortgage']]\n",
    "\n",
    "campaign = dataset[\n",
    "    ['client_id',\n",
    "     'number_contacts',\n",
    "     'contact_duration',\n",
    "     'previous_campaign_contacts',\n",
    "     'previous_outcome',\n",
    "     'campaign_outcome',\n",
    "     'last_contact_date']]\n",
    "\n",
    "economics = dataset[\n",
    "    ['client_id',\n",
    "     'cons_price_idx',\n",
    "     'euribor_three_months']]"
   ]
  },
  {
   "cell_type": "code",
   "execution_count": 5,
   "metadata": {},
   "outputs": [],
   "source": [
    "os.makedirs('files/output/', exist_ok=True)\n",
    "\n",
    "output_directory = 'files/output/'\n",
    "dataframes = {'client': client, \n",
    "             'campaign': campaign, \n",
    "             'economics': economics}\n",
    "\n",
    "for name, df in dataframes.items():\n",
    "    df.to_csv(f'{output_directory}{name}.csv', index=False)"
   ]
  }
 ],
 "metadata": {
  "kernelspec": {
   "display_name": ".venv",
   "language": "python",
   "name": "python3"
  },
  "language_info": {
   "codemirror_mode": {
    "name": "ipython",
    "version": 3
   },
   "file_extension": ".py",
   "mimetype": "text/x-python",
   "name": "python",
   "nbconvert_exporter": "python",
   "pygments_lexer": "ipython3",
   "version": "3.10.9"
  }
 },
 "nbformat": 4,
 "nbformat_minor": 2
}
